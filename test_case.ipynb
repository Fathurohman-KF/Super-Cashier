{
  "nbformat": 4,
  "nbformat_minor": 0,
  "metadata": {
    "colab": {
      "provenance": []
    },
    "kernelspec": {
      "name": "python3",
      "display_name": "Python 3"
    },
    "language_info": {
      "name": "python"
    }
  },
  "cells": [
    {
      "cell_type": "code",
      "execution_count": 2,
      "metadata": {
        "id": "eWVthGyhmdHD"
      },
      "outputs": [],
      "source": [
        "# memanggil modul_main dan class Transaction\n",
        "from modul_main import Transaction"
      ]
    },
    {
      "cell_type": "code",
      "source": [
        "# Inisialisasi objek trnsct_123 yang akan melakukan transaksi\n",
        "trnsct_123 = Transaction()\n",
        "\n",
        "# objek trnsct menggunakan fungsi add_item untuk menginput item\n",
        "trnsct_123.add_item(\"Ayam Goreng\", 2, 20000)\n",
        "trnsct_123.add_item(\"Pasta Gigi\", 3, 15000)"
      ],
      "metadata": {
        "colab": {
          "base_uri": "https://localhost:8080/"
        },
        "id": "V33tMRACoBFU",
        "outputId": "887429c1-9662-4368-d168-2395f9b0fd59"
      },
      "execution_count": 4,
      "outputs": [
        {
          "output_type": "stream",
          "name": "stdout",
          "text": [
            "Harga item yang dibeli {'Nama item': ['Ayam Goreng'], 'Jumlah item': [2], 'Harga item': [20000], 'Total harga': [40000]}\n",
            "Harga item yang dibeli {'Nama item': ['Ayam Goreng', 'Pasta Gigi'], 'Jumlah item': [2, 3], 'Harga item': [20000, 15000], 'Total harga': [40000, 45000]}\n"
          ]
        }
      ]
    },
    {
      "cell_type": "code",
      "source": [
        "# objek trnsct_123 menggunakan fungsi delete_item untuk menghapus item berdasarkan nama\n",
        "trnsct_123.delete_item(\"Pasta Gigi\")"
      ],
      "metadata": {
        "colab": {
          "base_uri": "https://localhost:8080/"
        },
        "id": "FELLUnYmoQnm",
        "outputId": "87fc2b72-dc96-4cd3-cfe8-8ef2c30d1566"
      },
      "execution_count": 5,
      "outputs": [
        {
          "output_type": "stream",
          "name": "stdout",
          "text": [
            "Data item yang dihapus{'Nama item': ['Ayam Goreng'], 'Jumlah item': [2], 'Harga item': [20000], 'Total harga': [40000]}\n"
          ]
        }
      ]
    },
    {
      "cell_type": "code",
      "source": [
        "# objek trnsct menggunakan fungsi reset_transaction untuk menghapus semua item yang telah masuk ke keranjang\n",
        "trnsct_123.reset_transaction()"
      ],
      "metadata": {
        "colab": {
          "base_uri": "https://localhost:8080/"
        },
        "id": "LGL-JX9moVc5",
        "outputId": "566de190-828e-4a75-b0de-49087fa6c258"
      },
      "execution_count": 6,
      "outputs": [
        {
          "output_type": "stream",
          "name": "stdout",
          "text": [
            "Semua item dihapus\n"
          ]
        }
      ]
    },
    {
      "cell_type": "code",
      "source": [
        "# objek trnsct menggunakan fungsi add_item untuk menginput item\n",
        "trnsct_123.add_item( \"Ayam Goreng\", 2, 20000)\n",
        "trnsct_123.add_item( \"Pasta Gigi\", 3, 15000)\n",
        "trnsct_123.add_item( \"Mainan Mobil\", 1, 20000)\n",
        "trnsct_123.add_item( \"Mi Instan\", 5, 3000)"
      ],
      "metadata": {
        "colab": {
          "base_uri": "https://localhost:8080/"
        },
        "id": "78NFI9yKoZtW",
        "outputId": "85adc1b1-0ff0-4a57-df2f-d001aa1a651e"
      },
      "execution_count": 8,
      "outputs": [
        {
          "output_type": "stream",
          "name": "stdout",
          "text": [
            "Harga item yang dibeli {'Nama item': ['Ayam Goreng'], 'Jumlah item': [2], 'Harga item': [20000], 'Total harga': [40000]}\n",
            "Harga item yang dibeli {'Nama item': ['Ayam Goreng', 'Pasta Gigi'], 'Jumlah item': [2, 3], 'Harga item': [20000, 15000], 'Total harga': [40000, 45000]}\n",
            "Harga item yang dibeli {'Nama item': ['Ayam Goreng', 'Pasta Gigi', 'Mainan Mobil'], 'Jumlah item': [2, 3, 1], 'Harga item': [20000, 15000, 20000], 'Total harga': [40000, 45000, 20000]}\n",
            "Harga item yang dibeli {'Nama item': ['Ayam Goreng', 'Pasta Gigi', 'Mainan Mobil', 'Mi Instan'], 'Jumlah item': [2, 3, 1, 5], 'Harga item': [20000, 15000, 20000, 3000], 'Total harga': [40000, 45000, 20000, 15000]}\n"
          ]
        }
      ]
    },
    {
      "cell_type": "code",
      "source": [
        "trnsct_123.total_price()\n"
      ],
      "metadata": {
        "colab": {
          "base_uri": "https://localhost:8080/"
        },
        "id": "qShXDoJZojWh",
        "outputId": "5d814f07-81b9-495f-9b02-4b4c7d89f7f7"
      },
      "execution_count": 10,
      "outputs": [
        {
          "output_type": "stream",
          "name": "stdout",
          "text": [
            "Total price : 120000\n"
          ]
        }
      ]
    }
  ]
}